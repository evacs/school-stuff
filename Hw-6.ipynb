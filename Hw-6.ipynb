{
 "cells": [
  {
   "cell_type": "markdown",
   "metadata": {},
   "source": [
    "# Cash-Karp Method"
   ]
  },
  {
   "cell_type": "code",
   "execution_count": 1,
   "metadata": {},
   "outputs": [],
   "source": [
    "%matplotlib inline\n",
    "import numpy as np\n",
    "import matplotlib.pyplot as plt\n"
   ]
  },
  {
   "cell_type": "markdown",
   "metadata": {},
   "source": [
    "## Define set of ODEs to integrate"
   ]
  },
  {
   "cell_type": "code",
   "execution_count": 2,
   "metadata": {},
   "outputs": [],
   "source": [
    "def dfdx(x,f):\n",
    "    \n",
    "    \n",
    "    y = f[0]\n",
    "    \n",
    "    #dy/dx = z      \n",
    "    z = f[1]\n",
    "    \n",
    "    dydx = np.zeros_like(f)\n",
    "    dydx[0] = z\n",
    "    dydx[1] = -1*y\n",
    "    \n",
    "    return dydx"
   ]
  },
  {
   "cell_type": "markdown",
   "metadata": {},
   "source": [
    "## Define the core of the Cash-Karp method"
   ]
  },
  {
   "cell_type": "code",
   "execution_count": 3,
   "metadata": {},
   "outputs": [],
   "source": [
    "def ck_core_mv(x_i, y_i, nv, h, f):\n",
    "    \n",
    "    #making arrays to hold my constants\n",
    "    ci = np.array([0,0, 1./5., 3./10., 3./5., 1, 7./8.])\n",
    "    \n",
    "    #aij as a matrix\n",
    "    aji = np.array([[0,0,0,0,0,0,0],\n",
    "                    [0,0, 1./5., 3./40., 3./10., -11./54., 1631./55296.],\n",
    "                   [0,0,0, 9./40., -9./10., 5./2., 175./512.],\n",
    "                   [0,0,0,0, 6./5., -70./27., 575./13824.],\n",
    "                   [0,0,0,0,0, 35./27., 44275./110592.],\n",
    "                   [0,0,0,0,0,0,253./4096.]])\n",
    "\n",
    "    aij = aji.transpose()\n",
    "    \n",
    "    bi = np.array([0, 37./378.,0,250./621.,125./594.,0,512./1771.])\n",
    "    bistr = np.array([0,2825/27648.,0,18575./48384.,13525./55296.,277./14336.,1./4.])\n",
    "\n",
    "    #define k array\n",
    "    ni = 7\n",
    "    ki = np.zeros((ni,nv))\n",
    "    \n",
    "    #compute ki\n",
    "    for i in range(1,ni):\n",
    "        # xn+1\n",
    "        xn = x_i + ci[i]*h\n",
    "        \n",
    "        #temp y\n",
    "        yn = y_i.copy()\n",
    "        for j in range(1,i):\n",
    "            yn += aij[i,j]*ki[j,:]\n",
    "            \n",
    "        ki[i,:] = h*f(xn,yn)\n",
    "    ynp1 = y_i.copy()\n",
    "    ynp1s= y_i.copy()\n",
    "    \n",
    "    for i in range(1,ni):\n",
    "        ynp1 += bi[i]*ki[i,:]\n",
    "        ynp1s += bistr[i]*ki[i,:]\n",
    "        \n",
    "    #get error\n",
    "    Delta = np.fabs(ynp1-ynp1s)\n",
    "    \n",
    "    return ynp1, Delta\n",
    "    \n",
    "    "
   ]
  },
  {
   "cell_type": "markdown",
   "metadata": {},
   "source": [
    "## Define the adaptive step driver"
   ]
  },
  {
   "cell_type": "code",
   "execution_count": 4,
   "metadata": {},
   "outputs": [],
   "source": [
    "def ck_mv_ad(dfdx,x_i,y_i,nv,h, tol):\n",
    "    \n",
    "    #how big of step, find that the error is not too large\n",
    "    SAFETY = 0.9\n",
    "    H_NEW_FAC = 2.0 #if step is too small, fix for tol and ___ to match? max factor in which step will change between steps\n",
    "    \n",
    "    imax = 1000\n",
    "    \n",
    "    i = 0\n",
    "    \n",
    "    #create an error array, to keep track of errors\n",
    "    Delta = np.full(nv, 2*tol) #initialize every element \n",
    "    \n",
    "    h_step = h\n",
    "    \n",
    "    #adjust step to get more accurate answer\n",
    "    #__.max menas max in array (method)\n",
    "    while(Delta.max()/tol > 1.0):\n",
    "        \n",
    "        #value at end of step\n",
    "        y_ipo, Delta = ck_core_mv(x_i,y_i,nv,h_step,dfdx)\n",
    "        \n",
    "        \n",
    "        if(Delta.max()/tol > 1.0):\n",
    "            \n",
    "            h_step *= SAFETY * (Delta.max()/tol)**(-0.25)\n",
    "            \n",
    "        #check integration\n",
    "        if(i>=imax):\n",
    "            print(\"Too many iterations in ck_mv_ad\")\n",
    "            raise StopIteration(\"Ending after i =\", i)\n",
    "            \n",
    "        #iterate\n",
    "        i += 1\n",
    "        \n",
    "    h_new = np.fmin(h_step * (Delta.max()/tol)**(-0.9), h_step * H_NEW_FAC)\n",
    "    \n",
    "    return y_ipo, h_new, h_step                      \n",
    "                "
   ]
  },
  {
   "cell_type": "markdown",
   "metadata": {},
   "source": [
    "## Define a wrapper for CK, set up the integral"
   ]
  },
  {
   "cell_type": "code",
   "execution_count": 5,
   "metadata": {},
   "outputs": [],
   "source": [
    "def ck_mv(dfdx,a,b,y_a,tol,v=False):\n",
    "    \n",
    "    #y_a are the boundary conditions at a\n",
    "    # a and b are lower and upper boundaries\n",
    "    \n",
    "    #starting steps\n",
    "    xi = a\n",
    "    yi = y_a.copy()\n",
    "    \n",
    "    h = 1.0e-4 * (b-a)\n",
    "    \n",
    "    #max iterations\n",
    "    imax = 1000\n",
    "    \n",
    "    i = 0\n",
    "    \n",
    "    #variables are the length \n",
    "    nv = len(y_a)\n",
    "    \n",
    "    #set initial conditions\n",
    "    x = np.full(1,a)\n",
    "    y = np.full( (1, nv), y_a)\n",
    "    #makes an array, adding elements to the array\n",
    "    #1000 elements at 5 = (1000, 5)\n",
    "    \n",
    "    #loop until we reach b\n",
    "    flag = True\n",
    "    while(flag):\n",
    "        \n",
    "        y_ipo, h_new, h_step = ck_mv_ad(dfdx,xi,yi,nv,h,tol)\n",
    "         \n",
    "        #new step\n",
    "        h = h_new\n",
    "        \n",
    "        #prevent an overshoot\n",
    "        if(xi + h_step>b):\n",
    "            \n",
    "            #step will end at b\n",
    "            h = b-xi\n",
    "            \n",
    "            #recompute\n",
    "            y_ipo, h_new, h_step, = ck_mv_ad(dfdx,xi,yi,nv,h,tol)\n",
    "            \n",
    "            flag = False\n",
    "            \n",
    "            \n",
    "        #update values\n",
    "        xi += h_step\n",
    "        yi = y_ipo.copy()\n",
    "        \n",
    "        #add step\n",
    "        x = np.append(x,xi)\n",
    "        y_ipo = np.zeros((len(x),nv))\n",
    "        y_ipo[0:len(x)-1,:] = y[:]\n",
    "        y_ipo[-1,:] = yi[:]\n",
    "        del y\n",
    "        y = y_ipo\n",
    "        \n",
    "        #prevent too many iterations\n",
    "        if(i>=imax):\n",
    "            print(\"Maximum iterations reached.\")\n",
    "            raise StopIteration(\"Iteration number = \",i)\n",
    "            \n",
    "        #iterate\n",
    "        i += 1\n",
    "        \n",
    "        #output some information\n",
    "        if(v):\n",
    "            s = \"i = %3d/tx = %9.8f\\ty = %9.8f\\th = %9.8f\\tb = %9.8f\" % (i,xi,yi[0],h_step,b)\n",
    "            print(s)\n",
    "            \n",
    "        if(xi==b):\n",
    "            flag = False\n",
    "            \n",
    "    return x,y \n",
    "        "
   ]
  },
  {
   "cell_type": "markdown",
   "metadata": {},
   "source": [
    "## Peform the Integration"
   ]
  },
  {
   "cell_type": "code",
   "execution_count": 6,
   "metadata": {},
   "outputs": [
    {
     "name": "stdout",
     "output_type": "stream",
     "text": [
      "i =   1/tx = 0.00062832\ty = 0.00062832\th = 0.00062832\tb = 6.28318531\n",
      "i =   2/tx = 0.00188496\ty = 0.00188495\th = 0.00125664\tb = 6.28318531\n",
      "i =   3/tx = 0.00439823\ty = 0.00439822\th = 0.00251327\tb = 6.28318531\n",
      "i =   4/tx = 0.00942478\ty = 0.00942464\th = 0.00502655\tb = 6.28318531\n",
      "i =   5/tx = 0.01947787\ty = 0.01947664\th = 0.01005310\tb = 6.28318531\n",
      "i =   6/tx = 0.03958407\ty = 0.03957373\th = 0.02010619\tb = 6.28318531\n",
      "i =   7/tx = 0.07979645\ty = 0.07971180\th = 0.04021239\tb = 6.28318531\n",
      "i =   8/tx = 0.16022123\ty = 0.15953660\th = 0.08042477\tb = 6.28318531\n",
      "i =   9/tx = 0.32107077\ty = 0.31558279\th = 0.16084954\tb = 6.28318531\n",
      "i =  10/tx = 0.64276986\ty = 0.59941495\th = 0.32169909\tb = 6.28318531\n",
      "i =  11/tx = 0.93739384\ty = 0.80601851\th = 0.29462398\tb = 6.28318531\n",
      "i =  12/tx = 1.20675386\ty = 0.93446544\th = 0.26936002\tb = 6.28318531\n",
      "i =  13/tx = 1.49426997\ty = 0.99707369\th = 0.28751611\tb = 6.28318531\n",
      "i =  14/tx = 1.76344767\ty = 0.98150050\th = 0.26917769\tb = 6.28318531\n",
      "i =  15/tx = 2.03076151\ty = 0.89606839\th = 0.26731385\tb = 6.28318531\n",
      "i =  16/tx = 2.29758389\ty = 0.74731321\th = 0.26682237\tb = 6.28318531\n",
      "i =  17/tx = 2.56844699\ty = 0.54227799\th = 0.27086310\tb = 6.28318531\n",
      "i =  18/tx = 2.84768738\ty = 0.28969237\th = 0.27924039\tb = 6.28318531\n",
      "i =  19/tx = 3.12869484\ty = 0.01289739\th = 0.28100745\tb = 6.28318531\n",
      "i =  20/tx = 3.39732623\ty = -0.25295549\th = 0.26863139\tb = 6.28318531\n",
      "i =  21/tx = 3.66411066\ty = -0.49906425\th = 0.26678443\tb = 6.28318531\n",
      "i =  22/tx = 3.93155133\ty = -0.71032491\th = 0.26744067\tb = 6.28318531\n",
      "i =  23/tx = 4.20391433\ty = -0.87348904\th = 0.27236300\tb = 6.28318531\n",
      "i =  24/tx = 4.48601277\ty = -0.97448720\th = 0.28209844\tb = 6.28318531\n",
      "i =  25/tx = 4.76275451\ty = -0.99873304\th = 0.27674175\tb = 6.28318531\n",
      "i =  26/tx = 5.03073667\ty = -0.94975497\th = 0.26798215\tb = 6.28318531\n",
      "i =  27/tx = 5.29729916\ty = -0.83376264\th = 0.26656249\tb = 6.28318531\n",
      "i =  28/tx = 5.56553774\ty = -0.65761502\th = 0.26823858\tb = 6.28318531\n",
      "i =  29/tx = 5.83966631\ty = -0.42912109\th = 0.27412857\tb = 6.28318531\n",
      "i =  30/tx = 6.12503238\ty = -0.15749453\th = 0.28536607\tb = 6.28318531\n",
      "i =  31/tx = 6.28318531\ty = 0.00000015\th = 0.15815293\tb = 6.28318531\n"
     ]
    },
    {
     "data": {
      "text/plain": [
       "<matplotlib.legend.Legend at 0xaf73a48>"
      ]
     },
     "execution_count": 6,
     "metadata": {},
     "output_type": "execute_result"
    },
    {
     "data": {
      "image/png": "[encoded data removed]",
      "text/plain": [
       "<Figure size 432x288 with 1 Axes>"
      ]
     },
     "metadata": {
      "needs_background": "light"
     },
     "output_type": "display_data"
    }
   ],
   "source": [
    "a = 0.0\n",
    "b = 2.0*np.pi\n",
    "y0 = np.zeros(2)\n",
    "y0[0] = 0.0\n",
    "y0[1] = 1.0\n",
    "nv = 2\n",
    "\n",
    "tolerance = 1.0e-6\n",
    "x,y = ck_mv(dfdx,a,b,y0,tolerance,v = True)\n",
    "\n",
    "plt.scatter(x,y[:,0], color= 'blue', label = 'y(x)')\n",
    "plt.scatter(x,y[:,1], color= 'green', label = 'z(x)')\n",
    "plt.plot(x,np.sin(x), label='sin(x)')\n",
    "plt.plot(x,np.cos(x), label='cos(x)')\n",
    "plt.xlim([0,2*np.pi])\n",
    "plt.ylim([-1.2,1.2])\n",
    "plt.legend(frameon=False)\n"
   ]
  },
  {
   "cell_type": "markdown",
   "metadata": {},
   "source": [
    "## Plot the error"
   ]
  },
  {
   "cell_type": "code",
   "execution_count": 7,
   "metadata": {},
   "outputs": [
    {
     "data": {
      "text/plain": [
       "<matplotlib.legend.Legend at 0xc02a610>"
      ]
     },
     "execution_count": 7,
     "metadata": {},
     "output_type": "execute_result"
    },
    {
     "data": {
      "image/png": "[encoded data removed]",
      "text/plain": [
       "<Figure size 432x288 with 1 Axes>"
      ]
     },
     "metadata": {
      "needs_background": "light"
     },
     "output_type": "display_data"
    }
   ],
   "source": [
    "plt.plot(x,y[:,0]-np.sin(x), label=\"y(x) Error\")\n",
    "plt.plot(x,y[:,1]-np.cos(x), label=\"z(x) Error\")\n",
    "plt.legend()"
   ]
  },
  {
   "cell_type": "code",
   "execution_count": null,
   "metadata": {},
   "outputs": [],
   "source": []
  }
 ],
 "metadata": {
  "kernelspec": {
   "display_name": "Python 3",
   "language": "python",
   "name": "python3"
  },
  "language_info": {
   "codemirror_mode": {
    "name": "ipython",
    "version": 3
   },
   "file_extension": ".py",
   "mimetype": "text/x-python",
   "name": "python",
   "nbconvert_exporter": "python",
   "pygments_lexer": "ipython3",
   "version": "3.8.5"
  }
 },
 "nbformat": 4,
 "nbformat_minor": 4
}
