{
 "cells": [
  {
   "cell_type": "code",
   "execution_count": 1,
   "metadata": {},
   "outputs": [],
   "source": [
    "%matplotlib inline\n",
    "import numpy as np\n",
    "import matplotlib.pyplot as plt"
   ]
  },
  {
   "cell_type": "markdown",
   "metadata": {},
   "source": [
    "# The function needing integration:"
   ]
  },
  {
   "cell_type": "code",
   "execution_count": 2,
   "metadata": {},
   "outputs": [],
   "source": [
    "def func(x):\n",
    "    f1 = np.exp(-2*x)\n",
    "    f2 = np.cos(10*x)\n",
    "\n",
    "    return f1*f2"
   ]
  },
  {
   "cell_type": "markdown",
   "metadata": {},
   "source": [
    "## The integrated function:"
   ]
  },
  {
   "cell_type": "code",
   "execution_count": 3,
   "metadata": {},
   "outputs": [],
   "source": [
    "def integral(x):\n",
    "    \n",
    "    return np.exp(-2*x)*(5*np.sin(10*x)-np.cos(10*x))/52\n",
    "    \n",
    "    #integrate here to check your work"
   ]
  },
  {
   "cell_type": "markdown",
   "metadata": {},
   "source": [
    "## Trapezoid Method:"
   ]
  },
  {
   "cell_type": "code",
   "execution_count": 4,
   "metadata": {},
   "outputs": [],
   "source": [
    "def trap_core(f, x, h):\n",
    "    return 0.5*h*(f(x+h) + f(x))"
   ]
  },
  {
   "cell_type": "code",
   "execution_count": 5,
   "metadata": {},
   "outputs": [],
   "source": [
    "def trap_meth(f,a,b,N):\n",
    "              \n",
    "    #f == func\n",
    "    #a == 0\n",
    "    #b == np.pi\n",
    "    #N == 50\n",
    "    \n",
    "    #define x values\n",
    "    \n",
    "    x = np.linspace(a, b, N)\n",
    "    h = x[1]-x[0]\n",
    "    \n",
    "    Fint = 0.0\n",
    "    \n",
    "    #perform integral using trap method:\n",
    "    \n",
    "    for i in range(0,len(x)-1,1):\n",
    "        Fint += trap_core(f,x[i],h)\n",
    "    print(i)\n",
    "    return Fint"
   ]
  },
  {
   "cell_type": "markdown",
   "metadata": {},
   "source": [
    "## Simpson's Method:"
   ]
  },
  {
   "cell_type": "code",
   "execution_count": 6,
   "metadata": {},
   "outputs": [],
   "source": [
    "def simp_core(f,x,h):\n",
    "    return h*( f(x) + 4*f(x+h) + f(x+2*h))/3."
   ]
  },
  {
   "cell_type": "code",
   "execution_count": 7,
   "metadata": {},
   "outputs": [],
   "source": [
    "def simp_meth(f, a, b, N):\n",
    "    \n",
    "    #N=100\n",
    "    \n",
    "    #define x values\n",
    "    \n",
    "    x = np.linspace(a, b, N)\n",
    "    h = x[1]-x[0]\n",
    "    \n",
    "    Fint = 0.0\n",
    "    \n",
    "    for i in range(0,len(x)-2,2):\n",
    "        Fint += simp_core(f,x[i],h)\n",
    "        \n",
    "    if((N%2)==0):\n",
    "        Fint += simp_core(f,x[-2],0.5*h)\n",
    "        \n",
    "    print(i)\n",
    "    return Fint"
   ]
  },
  {
   "cell_type": "markdown",
   "metadata": {},
   "source": [
    "## Romberg Method:"
   ]
  },
  {
   "cell_type": "code",
   "execution_count": 8,
   "metadata": {},
   "outputs": [],
   "source": [
    "def romb_core(f,a,b,i):\n",
    "    \n",
    "    #difference\n",
    "    h = b-a\n",
    "    \n",
    "    #increment between new func evals\n",
    "    dh = h/2.**(i)\n",
    "    \n",
    "    #cofactor\n",
    "    K = h/2.**(i+1)\n",
    "    \n",
    "    \n",
    "    M = 0.0\n",
    "    for j in range(2**i):\n",
    "        M += f(a + 0.5*dh + j*dh)\n",
    "        \n",
    "    return K*M"
   ]
  },
  {
   "cell_type": "code",
   "execution_count": 9,
   "metadata": {},
   "outputs": [],
   "source": [
    "def romb_int(f,a,b,tol):\n",
    "    \n",
    "    #define an integration variable\n",
    "    i = 0\n",
    "    \n",
    "    #define a max number of iterations\n",
    "    imax = 1000\n",
    "    \n",
    "    #define an eror estimate, set to large value\n",
    "    delta = 100.0*np.fabs(tol)\n",
    "    \n",
    "    #set an array of answers\n",
    "    I = np.zeros(imax, dtype = float)\n",
    "    \n",
    "    #get to the zeroeth romb. integration\n",
    "    I[0] = 0.5*(b-a)*(f(a)+f(b))\n",
    "    \n",
    "    #iterate by 1\n",
    "    i += 1\n",
    "    \n",
    "    while(delta>tol):\n",
    "        \n",
    "        #find this romb integration\n",
    "        I[i] = 0.5*I[i-1] + romb_core(f, a, b, i)\n",
    "        \n",
    "        #compute the new fractional error estimate\n",
    "        delta = np.fabs( (I[i] - I[i-1])/ I[i] )\n",
    "        \n",
    "        print(i,I[i],I[i-1],delta)\n",
    "        \n",
    "        if(delta>tol):\n",
    "            \n",
    "            i+=1\n",
    "            \n",
    "            \n",
    "            if(i>imax):\n",
    "                print(\"Max iterations reached.\")\n",
    "                raise StopIteration('Stopping iterations after ', i)\n",
    "                \n",
    "    return I[i]"
   ]
  },
  {
   "cell_type": "markdown",
   "metadata": {},
   "source": [
    "# Check the integrals"
   ]
  },
  {
   "cell_type": "code",
   "execution_count": 10,
   "metadata": {},
   "outputs": [
    {
     "name": "stdout",
     "output_type": "stream",
     "text": [
      "From calculator:\n",
      "0.019194856870544078\n",
      "Trapezoid Method:\n",
      "48\n",
      "0.01989276221162676\n",
      "Simpson's Method:\n",
      "46\n",
      "0.01913482340309613\n",
      "Romberg Method:\n",
      "1 0.7868648494891817 1.5737296989783633 1.0\n",
      "2 0.2974797999211515 0.7868648494891817 1.6451034648327187\n",
      "3 0.1338682162766772 0.2974797999211515 1.222183937270994\n",
      "4 0.07429884868669351 0.1338682162766772 0.8017535754985691\n",
      "5 0.046311294693032426 0.07429884868669351 0.6043353825275767\n",
      "6 0.032650759062474666 0.046311294693032426 0.4183834012685401\n",
      "7 0.02589762452336669 0.032650759062474666 0.2607627017302229\n",
      "8 0.022539969341304138 0.02589762452336669 0.14896449641170112\n",
      "9 0.02086584679503983 0.022539969341304138 0.08023266741622372\n",
      "10 0.02002996035051737 0.02086584679503983 0.041731807247480004\n",
      "11 0.019612310745926686 0.02002996035051737 0.02129527774678096\n",
      "12 0.019403559342457077 0.019612310745926686 0.01075840776350955\n",
      "13 0.01929920199007937 0.019403559342457077 0.005407340284398829\n",
      "14 0.019247027901207872 0.01929920199007937 0.0027107608062554305\n",
      "15 0.019220942003600066 0.019247027901207872 0.0013571602059316483\n",
      "16 0.01920789934150289 0.019220942003600066 0.0006790259499640058\n",
      "17 0.019201378082131116 0.01920789934150289 0.0003396245490234728\n",
      "18 0.019198117470364318 0.019201378082131116 0.0001698401820820051\n",
      "19 0.019196487168961114 0.019198117470364318 8.492706966926287e-05\n",
      "20 0.019195672019377927 0.019196487168961114 4.246527979663633e-05\n",
      "21 0.019195264444867084 0.019195672019377927 2.1233076106515646e-05\n",
      "22 0.019195060657681284 0.019195264444867084 1.0616647138248912e-05\n",
      "23 0.019194958764104236 0.019195060657681284 5.308350921731978e-06\n",
      "24 0.019194907817322193 0.019194958764104236 2.6541821678933438e-06\n",
      "25 0.01919488234392562 0.019194907817322193 1.3270931343178013e-06\n",
      "26 0.019194869607236313 0.01919488234392562 6.635465396753983e-07\n",
      "0.019194869607236313 6.635471325217718e-07 1e-06\n"
     ]
    }
   ],
   "source": [
    "Answer = integral(np.pi)-integral(0)\n",
    "print(\"From calculator:\")\n",
    "print(Answer)\n",
    "print(\"Trapezoid Method:\")\n",
    "print(trap_meth(func,0,np.pi,50))\n",
    "print(\"Simpson's Method:\")\n",
    "print(simp_meth(func,0,np.pi,50))\n",
    "print(\"Romberg Method:\")\n",
    "tolerance = 1.0e-6\n",
    "RI = romb_int(func,0,np.pi,tolerance)\n",
    "print(RI, (RI-Answer)/Answer, tolerance)\n"
   ]
  },
  {
   "cell_type": "code",
   "execution_count": null,
   "metadata": {},
   "outputs": [],
   "source": []
  }
 ],
 "metadata": {
  "kernelspec": {
   "display_name": "Python 3",
   "language": "python",
   "name": "python3"
  },
  "language_info": {
   "codemirror_mode": {
    "name": "ipython",
    "version": 3
   },
   "file_extension": ".py",
   "mimetype": "text/x-python",
   "name": "python",
   "nbconvert_exporter": "python",
   "pygments_lexer": "ipython3",
   "version": "3.8.5"
  }
 },
 "nbformat": 4,
 "nbformat_minor": 4
}
